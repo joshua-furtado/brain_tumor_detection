{
  "nbformat": 4,
  "nbformat_minor": 0,
  "metadata": {
    "colab": {
      "name": "data_preprocessing.ipynb",
      "provenance": []
    },
    "kernelspec": {
      "name": "python3",
      "display_name": "Python 3"
    },
    "language_info": {
      "name": "python"
    }
  },
  "cells": [
    {
      "cell_type": "code",
      "metadata": {
        "colab": {
          "base_uri": "https://localhost:8080/"
        },
        "id": "oFViNIT3Xlth",
        "outputId": "69e535f0-4fb6-4f9e-d5b8-7c27b54bb71b"
      },
      "source": [
        "!pip install Pillow"
      ],
      "execution_count": 6,
      "outputs": [
        {
          "output_type": "stream",
          "text": [
            "Requirement already satisfied: Pillow in /usr/local/lib/python3.7/dist-packages (7.1.2)\n"
          ],
          "name": "stdout"
        }
      ]
    },
    {
      "cell_type": "code",
      "metadata": {
        "id": "fY5ShtjNXZ3a"
      },
      "source": [
        "from google.colab import drive\n",
        "import os\n",
        "from PIL import Image\n",
        "import numpy as np"
      ],
      "execution_count": 23,
      "outputs": []
    },
    {
      "cell_type": "code",
      "metadata": {
        "colab": {
          "base_uri": "https://localhost:8080/"
        },
        "id": "aje11IbrUsai",
        "outputId": "04bd5402-377b-43c7-de46-0115934e81a0"
      },
      "source": [
        "# mount google drive to access data\n",
        "drive.mount('/content/drive')"
      ],
      "execution_count": 8,
      "outputs": [
        {
          "output_type": "stream",
          "text": [
            "Drive already mounted at /content/drive; to attempt to forcibly remount, call drive.mount(\"/content/drive\", force_remount=True).\n"
          ],
          "name": "stdout"
        }
      ]
    },
    {
      "cell_type": "code",
      "metadata": {
        "id": "4RyQAfBeVkxk"
      },
      "source": [
        "# define paths\n",
        "path = \"/content/drive/My Drive/01 - Courses/04 - Machine Learning Engineer Nanodegree/brain_tumor_detection/data\"\n",
        "raw = os.path.join(path, \"raw\")\n",
        "processed = os.path.join(path, \"processed\")"
      ],
      "execution_count": 9,
      "outputs": []
    },
    {
      "cell_type": "code",
      "metadata": {
        "id": "HXVvo7jPCKTb"
      },
      "source": [
        "def preprocess_data(input_path, output_path, labels=['yes', 'no'], shape=(128, 128)):\n",
        "  '''\n",
        "  Reads input MRI scan images and resizes them to specified shape\n",
        "  Arguments:\n",
        "    input_path (str): directory containing yes and no folders of input images\n",
        "    output_path (str): directory to store processed images in yes and no folders\n",
        "    labels (list): the two classes of MRI brain scans\n",
        "    shape (tuple): output image size\n",
        "  Returns: None\n",
        "  '''\n",
        "  unsuccessful_files = {}\n",
        "\n",
        "  if not os.path.exists(output_path):\n",
        "    os.makedirs(output_path)\n",
        "\n",
        "  for folder_name in labels:\n",
        "    folder_path = os.path.join(input_path, folder_name)\n",
        "    output_folder = os.path.join(output_path, folder_name)\n",
        "    if not os.path.exists(output_folder):\n",
        "      os.makedirs(output_folder)\n",
        "\n",
        "    for fname in os.listdir(folder_path):\n",
        "      fpath = os.path.join(folder_path, fname)\n",
        "      opath = os.path.join(output_folder, fname)\n",
        "      try:\n",
        "        img = Image.open(fpath)\n",
        "        img = img.resize(shape)\n",
        "        img.convert('RGB').save(opath)\n",
        "\n",
        "      except Exception as e:\n",
        "        unsuccessful_files[fname] = e\n",
        "  \n",
        "  if unsuccessful_files:\n",
        "    print(f'Error processing the following files:\\n')\n",
        "    for index, key in enumerate(unsuccessful_files, 1):\n",
        "      print(f'{index}. {key} - {unsuccessful_files[key]}')\n",
        "  else:\n",
        "    print('Successfully processed all images.')"
      ],
      "execution_count": 12,
      "outputs": []
    },
    {
      "cell_type": "code",
      "metadata": {
        "colab": {
          "base_uri": "https://localhost:8080/"
        },
        "id": "GJlaejrrMwZD",
        "outputId": "8a08808b-df77-4ce2-dec4-7b5efd5c3181"
      },
      "source": [
        "preprocess_data(raw, processed)"
      ],
      "execution_count": 13,
      "outputs": [
        {
          "output_type": "stream",
          "text": [
            "Successfully processed all images.\n"
          ],
          "name": "stdout"
        }
      ]
    }
  ]
}